{
 "cells": [
  {
   "cell_type": "code",
   "execution_count": 22,
   "metadata": {
    "collapsed": false
   },
   "outputs": [],
   "source": [
    "#!/usr/bin/env python\n",
    "# Copyright 2016 Aaron ciuffo\n",
    "\n",
    "version = '''NPR Podcast Downloader V5.0\n",
    "\n",
    "by Aaron Ciuffo (txoof.com)\n",
    "released without warranty under GPLV3:\n",
    "http://www.gnu.org/licenses/gpl-3.0.html\n",
    "Please don't sue me.\n",
    "'''\n",
    "\n",
    "programName = 'podcastdownload'\n",
    "# regexp for finding titles titleList = re.findall(r\"audio-module-title\\\"\\>(.*)\\<, file)\n",
    "# regexp for finding urls urlList = re.findall(r\"download.*href\\=\\\"(https:\\/\\/ondemand.npr.org\\/.*mp3).*\\?\", file)\n",
    "\n",
    "\n",
    "# Imports\n",
    "import datetime # for time stuff\n",
    "import logging # logging library\n",
    "from urllib2 import urlopen # standard library for interfacing with web resources\n",
    "import re # regular expressions\n",
    "import json\n"
   ]
  },
  {
   "cell_type": "markdown",
   "metadata": {},
   "source": [
    "# TO DO\n",
    " * update the output path to match the date of the show and a 0 or 2 for morning/evening\n"
   ]
  },
  {
   "cell_type": "code",
   "execution_count": 2,
   "metadata": {
    "collapsed": false
   },
   "outputs": [],
   "source": [
    "loglevel = 'DEBUG'\n",
    "numeric_level = getattr(logging, loglevel.upper())\n",
    "if not isinstance(numeric_level, int):\n",
    "    raise ValueError('Invalid log level: %s' % loglevel)\n",
    "logging.basicConfig(level=numeric_level)\n",
    "logger = logging.getLogger(programName)\n",
    "\n",
    "# create a file handler\n",
    "handler = logging.FileHandler(programName+'.log')\n",
    "handler.setLevel(numeric_level)\n",
    "\n",
    "# create a logging format\n",
    "formatter = logging.Formatter('%(asctime)s %(name)s[%(levelname)-8s]: %(message)s')\n",
    "handler.setFormatter(formatter)\n",
    "\n",
    "# add the handlers to the logger\n",
    "logger.addHandler(handler)\n"
   ]
  },
  {
   "cell_type": "code",
   "execution_count": 3,
   "metadata": {
    "collapsed": false
   },
   "outputs": [
    {
     "name": "stderr",
     "output_type": "stream",
     "text": [
      "INFO:podcastdownload:starting log\n"
     ]
    }
   ],
   "source": [
    "logger.info('starting log')"
   ]
  },
  {
   "cell_type": "code",
   "execution_count": null,
   "metadata": {
    "collapsed": false
   },
   "outputs": [],
   "source": [
    "def loadModules():\n",
    "    '''load non standard modules'''\n",
    "    \n",
    "    try:\n",
    "        global requests\n",
    "        import requests\n",
    "    except Exception as e:\n",
    "        logging.critical('Fatal Error\\nFailed to load module: requests')\n",
    "        logging.critical('Please install requests module: http://docs.python-requests.org/')\n",
    "        exit(2)\n",
    "        return(False)\n",
    "    return(True)"
   ]
  },
  {
   "cell_type": "code",
   "execution_count": null,
   "metadata": {
    "collapsed": false
   },
   "outputs": [],
   "source": [
    "loadModules()\n"
   ]
  },
  {
   "cell_type": "code",
   "execution_count": 149,
   "metadata": {
    "collapsed": false
   },
   "outputs": [],
   "source": [
    "class Episode():\n",
    "    '''Download a podcast episode'''\n",
    "\n",
    "    def __init__(self,):\n",
    "        '''\n",
    "        Args:\n",
    "            name (str): name of episode/podcast\n",
    "            programURL (str): Index URL\n",
    "            segments (list): Segment() objects to be downloaded\n",
    "            outputBasePath (str): base path to use for output of files (default is ./)\n",
    "            outputPath (str): full path to output the downloaded podcast files\n",
    "        '''\n",
    "        self.name = \"undef\"\n",
    "        self.programURL = \"undef\"\n",
    "        self.segments = []\n",
    "        self.showDate =''\n",
    "        self.outputBasePath = './'\n",
    "        self.outputPath = self.updateOutputPath()\n",
    "        \n",
    "    def updateOutputPath(self, episodePath = ''):\n",
    "        self.outputPath = self.outputBasePath +  episodePath + '/'\n",
    "    \n",
    "    def download(self):\n",
    "        '''\n",
    "        Download all segments\n",
    "        Returns: \n",
    "            bool: True for successful\n",
    "        '''\n",
    "        \n",
    "        logger.info('downloding program: %s', self.name)\n",
    "        for segment in self.segments:\n",
    "            filePath = self.outputPath + segment.filename\n",
    "            \n",
    "            logger.debug('downloading %s', segment.audioURL)\n",
    "            try:\n",
    "                audioFile = urlopen(segment.audioURL).read()\n",
    "            except Exception as e:\n",
    "                logger.warning('could not download segment number: %s\\nerrors follow', segment.number)\n",
    "                logger.warning(e)\n",
    "                continue\n",
    "                \n",
    "            logger.info('writing file to %s', filePath)\n",
    "            try:\n",
    "                with open(output, 'wb') as code:\n",
    "                    code.write(audioFile)\n",
    "            except Exception as e:\n",
    "                logging.warning('could not write segment number %s to %s\\nerrors follow' % segment.number, filePath)\n",
    "                logging.warning(e)\n",
    "                continue\n",
    "\n",
    "            \n",
    "    def addSegment(self, segment):\n",
    "        '''\n",
    "        Add a downloadable segment to the segment list'''\n",
    "        self.segments.append(segment)\n",
    "            \n",
    "    "
   ]
  },
  {
   "cell_type": "code",
   "execution_count": 259,
   "metadata": {
    "collapsed": false
   },
   "outputs": [],
   "source": [
    "class NPREpisode(Episode, object):\n",
    "    '''Download an episode from NPR'''\n",
    "    \n",
    "    def __init__(self):\n",
    "        super(NPREpisode, self).__init__()\n",
    "        self.jsonData = None\n",
    "\n",
    "\n",
    "    def getepisode_API():\n",
    "        '''Use the NPR API to get a list of episodes'''\n",
    "        pass\n",
    "        \n",
    "    \n",
    "    def getepisode_HTML(self):\n",
    "        '''\n",
    "        scrape the HTML for JSON containing the segment and title information\n",
    "            Returns: True if successful, false otherwise\n",
    "        '''\n",
    "        logger.info('fetching episode info via HTML method')\n",
    "        logger.debug('source: %s' % self.programURL)\n",
    "        \n",
    "        search_PlayAll = \"<b.*data-play-all='({.*})'><\\/b>\" #re search string for JSON data in program HTML\n",
    "        search_FileName = \"(^[\\s|\\w|\\.|'|-]*)\\[?|$]\" #(anySpaces OR anyWords OR anyPeriod OR any' OR any-)? OR EOL\n",
    "        search_showDate = \"datetime=\\\"(\\d{4}-\\d{2}-\\d{2})\"\n",
    "               \n",
    "        filename = '' # extracted filename for each segment\n",
    "        # add an extension to help differentiate between episodes; set to epoch seconds to prevent clobbering\n",
    "        # if no valid extension is set elsewhere\n",
    "        output_extension = int((datetime.datetime.now() - datetime.datetime.utcfromtimestamp(0)).total_seconds())\n",
    "\n",
    "        \n",
    "       \n",
    "        try: # fetch the full HTML\n",
    "            programHTML = urlopen(self.programURL).read()\n",
    "        except Exception as e:\n",
    "            logging.warning('could not fetch episode information from %s' % self.programURL)\n",
    "            logging.error(e)\n",
    "            return(False)\n",
    "        logger.info('HTML retrieved')\n",
    "        \n",
    "\n",
    "        # find the show date and record it \n",
    "        self.showDate = re.search(search_showDate, programHTML).group(1)\n",
    "        if len(self.showDate) < 1:\n",
    "            logger.warning('no valid showDate found')\n",
    "        else: logger.info('show date: %s', self.showDate)\n",
    "        \n",
    "        try: # find the JSON program data\n",
    "            self.jsonData = json.loads(re.search(search_PlayAll, programHTML).group(1))\n",
    "        except Exception as e:\n",
    "            logger.warning('no valid JSON episode listing found in HTML from %s', self.programURL)\n",
    "            logger.error(e)\n",
    "            return(False)\n",
    "        \n",
    "        # check that some JSON data was found - not terribly robust\n",
    "        if len(self.jsonData['audioData']) > 1:\n",
    "            logger.info('JSON program information found for %s', self.jsonData['audioData'][0]['program'].upper())\n",
    "            self.name = self.jsonData['audioData'][0]['program'].upper() # set the episode name\n",
    "            logger.debug('segments found: %s', len(self.jsonData['audioData']))\n",
    "        else:\n",
    "            logger.warn('no valid audioData found in JSON object for this program')\n",
    "            return(False)\n",
    "        \n",
    "        # grab the first character of each word in the name; grab the last two characters of the last word\n",
    "        if len(self.name) > 0:\n",
    "            output_extension = '_'\n",
    "            for each, val in enumerate(self.name.split(' ')):\n",
    "                if each + 1 >= len(self.name.split(' ')):\n",
    "                    char = 2\n",
    "                else: \n",
    "                    char = 1\n",
    "                output_extension = output_extension + val[:char]\n",
    "\n",
    "        logger.debug('output path set to: %s', self.showDate + output_extension)\n",
    "        self.updateOutputPath(self.showDate + output_extension) # update the output path to include the show date\n",
    "        \n",
    "        \n",
    "        # recurse the JSON object and find all the audioData information\n",
    "        for key, val in enumerate(self.jsonData['audioData']):\n",
    "            logger.debug('%s - %s', int(key)+1, val['title'] )\n",
    "            try:\n",
    "                audioURL = val['audioUrl'] \n",
    "                title = val['title']\n",
    "            except Exception as e:\n",
    "                    logger.warning('failed to parse JSON data: %s', e)\n",
    "                    \n",
    "            number = int(key)+1 # set the human readable segment number\n",
    "            filename = re.search(search_FileName, val['audioUrl'].split('/')[-1:][0]).group(1) # set the filename\n",
    "            \n",
    "            if filename < 1:\n",
    "                logger.warning('no filename found; dropping segment')\n",
    "                continue\n",
    "\n",
    "            self.addSegment(Segment(audioURL, filename, number, title))\n",
    "            \n",
    "        return(True)\n",
    "            "
   ]
  },
  {
   "cell_type": "code",
   "execution_count": 252,
   "metadata": {
    "collapsed": false
   },
   "outputs": [],
   "source": [
    "class Segment():\n",
    "    '''One segment of a podcast'''\n",
    "    \n",
    "    def __init__(self, audioURL, filename, number, title = None):\n",
    "        '''\n",
    "        Args:\n",
    "            URL (str): URL to specific downloadable content\n",
    "            filename (str): output filename\n",
    "            number (int): ordinal number of segment\n",
    "        '''\n",
    "        self.audioURL = audioURL\n",
    "        self.number = number\n",
    "        self.filename = filename\n",
    "        self.title = title"
   ]
  },
  {
   "cell_type": "code",
   "execution_count": 260,
   "metadata": {
    "collapsed": false
   },
   "outputs": [
    {
     "name": "stderr",
     "output_type": "stream",
     "text": [
      "INFO:podcastdownload:fetching episode info via HTML method\n",
      "DEBUG:podcastdownload:source: http://www.npr.org/programs/morning-edition/\n",
      "INFO:podcastdownload:HTML retrieved\n",
      "INFO:podcastdownload:show date: 2016-10-28\n",
      "INFO:podcastdownload:JSON program information found for MORNING EDITION\n",
      "DEBUG:podcastdownload:segments found: 19\n",
      "DEBUG:podcastdownload:output path set to: 2016-10-28_MED\n",
      "DEBUG:podcastdownload:1 - Nevada Neighbors Favor Different Presidential Candidates\n",
      "DEBUG:podcastdownload:2 - Protests Escalate Against Venezuela's President\n",
      "DEBUG:podcastdownload:3 - Oregon Jury Acquits Defendants In Wildlife Refuge Occupation\n",
      "DEBUG:podcastdownload:4 - The Social Science Research Behind Political Campaign Ads\n",
      "DEBUG:podcastdownload:5 - In Chechnya, Take Care How You Dance At Weddings\n",
      "DEBUG:podcastdownload:6 - 'Economist' Correspondent Spends Time On Migrant Rescue Ship\n",
      "DEBUG:podcastdownload:7 - Democrats Focus On Rural New York To Retake The U.S. House\n",
      "DEBUG:podcastdownload:8 - In Israel, A Push To Get More Arabs Into Management\n",
      "DEBUG:podcastdownload:9 - Twitter To Discontinue Video-Sharing App Vine\n",
      "DEBUG:podcastdownload:10 - Pussy Riot's Nadya Tolokonnikova On Her New Anti-Trump Song\n",
      "DEBUG:podcastdownload:11 - Clinton Continues To Press An Affirmative Vision For The Country\n",
      "DEBUG:podcastdownload:12 - Ohio Campaign Swing Brings Out Trump's Lighter Side\n",
      "DEBUG:podcastdownload:13 - E-Sports Athletes Command The Game Just As Much As NBA Stars\n",
      "DEBUG:podcastdownload:14 - The Pope Commemorates The Reformation That Split Western Christianity\n",
      "DEBUG:podcastdownload:15 - Out Of The 'Wreckage Of The Past,' A Family Salvaged By Love\n",
      "DEBUG:podcastdownload:16 - Philippine President Hears Voice Of God: It Says, 'Don't Swear'\n",
      "DEBUG:podcastdownload:17 - Scandals Tarnish N.J. Gov. Chris Christie's Political Career\n",
      "DEBUG:podcastdownload:18 - Europe's Aid Plan For Syrian Refugees: A Million Debit Cards \n",
      "DEBUG:podcastdownload:19 - Teens Want More Education On The Electoral Process\n"
     ]
    },
    {
     "data": {
      "text/plain": [
       "True"
      ]
     },
     "execution_count": 260,
     "metadata": {},
     "output_type": "execute_result"
    }
   ],
   "source": [
    "mynpr = NPREpisode()\n",
    "mynpr.outputBasePath = './output/'\n",
    "mynpr.updateOutputPath('foo')\n",
    "#mynpr.programURL = 'http://www.npr.org/programs/all-things-considered'\n",
    "mynpr.programURL = 'http://www.npr.org/programs/morning-edition/'\n",
    "mynpr.getepisode_HTML()"
   ]
  },
  {
   "cell_type": "code",
   "execution_count": 261,
   "metadata": {
    "collapsed": false
   },
   "outputs": [
    {
     "data": {
      "text/plain": [
       "u'./output/2016-10-28_MED/'"
      ]
     },
     "execution_count": 261,
     "metadata": {},
     "output_type": "execute_result"
    }
   ],
   "source": [
    "mynpr.outputPath"
   ]
  },
  {
   "cell_type": "code",
   "execution_count": 32,
   "metadata": {
    "collapsed": false
   },
   "outputs": [
    {
     "name": "stderr",
     "output_type": "stream",
     "text": [
      "INFO:podcastdownload:downloading https://ondemand.npr.org/anon.npr-mp3/npr/me/2016/10/20161028_me_nevada_neighbors_favor_different_presidential_candidates.mp3?orgId=1&topicId=1014&d=433&p=3&story=499710808&t=progseg&e=499700973&seg=1&siteplayer=true\n",
      "INFO:podcastdownload:writing file to ./output//20161028_me_nevada_neighbors_favor_different_presidential_candidates.mp3\n",
      "INFO:podcastdownload:downloading https://ondemand.npr.org/anon.npr-mp3/npr/me/2016/10/20161028_me_protests_escalate_against_venezuelas_president.mp3?orgId=1&topicId=1127&d=188&p=3&story=499710815&t=progseg&e=499700973&seg=2&siteplayer=true\n",
      "INFO:podcastdownload:writing file to ./output//20161028_me_protests_escalate_against_venezuelas_president.mp3\n",
      "INFO:podcastdownload:downloading https://ondemand.npr.org/anon.npr-mp3/npr/me/2016/10/20161028_me_oregon_jury_acquits_defendants_in_wildlife_refuge_occupation.mp3?orgId=1&topicId=1070&d=199&p=3&story=499710822&t=progseg&e=499700973&seg=3&siteplayer=true\n",
      "INFO:podcastdownload:writing file to ./output//20161028_me_oregon_jury_acquits_defendants_in_wildlife_refuge_occupation.mp3\n",
      "INFO:podcastdownload:downloading https://ondemand.npr.org/anon.npr-mp3/npr/me/2016/10/20161028_me_the_social_science_research_behind_campaign_ads.mp3?orgId=1&topicId=1024&d=221&p=3&story=499710829&t=progseg&e=499700973&seg=4&siteplayer=true\n",
      "INFO:podcastdownload:writing file to ./output//20161028_me_the_social_science_research_behind_campaign_ads.mp3\n",
      "INFO:podcastdownload:downloading https://ondemand.npr.org/anon.npr-mp3/npr/me/2016/10/20161028_me_hr1_return_dg_-_emo.mp3?orgId=1&topicId=1004&d=28&p=3&story=499710836&t=progseg&e=499700973&seg=5&siteplayer=true\n",
      "INFO:podcastdownload:writing file to ./output//20161028_me_hr1_return_dg_-_emo.mp3\n",
      "INFO:podcastdownload:downloading https://ondemand.npr.org/anon.npr-mp3/npr/me/2016/10/20161028_me_reporter_for_the_economist_spends_time_on_migrant_rescue_ship.mp3?orgId=1&topicId=1124&d=205&p=3&story=499710843&t=progseg&e=499700973&seg=6&siteplayer=true\n",
      "INFO:podcastdownload:writing file to ./output//20161028_me_reporter_for_the_economist_spends_time_on_migrant_rescue_ship.mp3\n",
      "INFO:podcastdownload:downloading https://ondemand.npr.org/anon.npr-mp3/npr/me/2016/10/20161028_me_democrats_focus_on_rural_new_york_to_retake_the_us_house.mp3?orgId=625&topicId=1014&d=230&p=3&story=499710850&t=progseg&e=499700973&seg=7&siteplayer=true\n",
      "INFO:podcastdownload:writing file to ./output//20161028_me_democrats_focus_on_rural_new_york_to_retake_the_us_house.mp3\n",
      "INFO:podcastdownload:downloading https://ondemand.npr.org/anon.npr-mp3/npr/me/2016/10/20161028_me_new_program_helps_arab_israelis_get_into_management_jobs.mp3?orgId=1&topicId=1009&d=232&p=3&story=499710857&t=progseg&e=499700973&seg=8&siteplayer=true\n",
      "INFO:podcastdownload:writing file to ./output//20161028_me_new_program_helps_arab_israelis_get_into_management_jobs.mp3\n",
      "INFO:podcastdownload:downloading https://ondemand.npr.org/anon.npr-mp3/npr/me/2016/10/20161028_me_twitter_to_discontinue_video-sharing_app_vine.mp3?orgId=1&topicId=1006&d=75&p=3&story=499710864&t=progseg&e=499700973&seg=9&siteplayer=true\n",
      "INFO:podcastdownload:writing file to ./output//20161028_me_twitter_to_discontinue_video-sharing_app_vine.mp3\n",
      "INFO:podcastdownload:downloading https://ondemand.npr.org/anon.npr-mp3/npr/me/2016/10/20161028_me_pussy_riots_nadya_tolokonnikova_on_her_new_anti-trump_song.mp3?orgId=1&topicId=1105&d=355&p=3&story=499498761&t=progseg&e=499700973&seg=10&siteplayer=true\n",
      "INFO:podcastdownload:writing file to ./output//20161028_me_pussy_riots_nadya_tolokonnikova_on_her_new_anti-trump_song.mp3\n",
      "INFO:podcastdownload:downloading https://ondemand.npr.org/anon.npr-mp3/npr/me/2016/10/20161028_me_on_the_campaign_trail_clinton_presses_an_affirmative_vision_for_the_country.mp3?orgId=1&topicId=1014&d=311&p=3&story=499710871&t=progseg&e=499700973&seg=11&siteplayer=true\n",
      "INFO:podcastdownload:writing file to ./output//20161028_me_on_the_campaign_trail_clinton_presses_an_affirmative_vision_for_the_country.mp3\n",
      "INFO:podcastdownload:downloading https://ondemand.npr.org/anon.npr-mp3/npr/me/2016/10/20161028_me_ohio_campaign_swing_brings_out_trumps_lighter_side.mp3?orgId=1&topicId=1014&d=121&p=3&story=499710878&t=progseg&e=499700973&seg=12&siteplayer=true\n",
      "INFO:podcastdownload:writing file to ./output//20161028_me_ohio_campaign_swing_brings_out_trumps_lighter_side.mp3\n",
      "INFO:podcastdownload:downloading https://ondemand.npr.org/anon.npr-mp3/npr/me/2016/10/20161028_me_e-sports_attracts_big_money_big_crowds_and_former_professional_athletes.mp3?orgId=1&topicId=1055&d=176&p=3&story=499710885&t=progseg&e=499700973&seg=13&siteplayer=true\n",
      "INFO:podcastdownload:writing file to ./output//20161028_me_e-sports_attracts_big_money_big_crowds_and_former_professional_athletes.mp3\n",
      "INFO:podcastdownload:downloading https://ondemand.npr.org/anon.npr-mp3/npr/me/2016/10/20161028_me_pope_francis_reaches_out_to_honor_the_man_who_splintered_christianity.mp3?orgId=1&topicId=1016&d=221&p=3&story=499587801&t=progseg&e=499700973&seg=14&siteplayer=true\n",
      "INFO:podcastdownload:writing file to ./output//20161028_me_pope_francis_reaches_out_to_honor_the_man_who_splintered_christianity.mp3\n",
      "INFO:podcastdownload:downloading https://ondemand.npr.org/anon.npr-mp3/npr/me/2016/10/20161028_me_out_of_the_wreckage_of_the_past_a_family_salvaged_by_love.mp3?orgId=1&topicId=1022&aggIds=4516989&d=168&p=3&story=499580347&t=progseg&e=499700973&seg=15&siteplayer=true\n",
      "INFO:podcastdownload:writing file to ./output//20161028_me_out_of_the_wreckage_of_the_past_a_family_salvaged_by_love.mp3\n",
      "INFO:podcastdownload:downloading https://ondemand.npr.org/anon.npr-mp3/npr/me/2016/10/20161028_me_hr2_return_rm_-_gabsjustin.mp3?orgId=1&topicId=1004&d=28&p=3&story=499710892&t=progseg&e=499700973&seg=16&siteplayer=true\n",
      "INFO:podcastdownload:writing file to ./output//20161028_me_hr2_return_rm_-_gabsjustin.mp3\n",
      "INFO:podcastdownload:downloading https://ondemand.npr.org/anon.npr-mp3/npr/me/2016/10/20161028_me_scandals_tarnish_nj_gov_chris_christies_political_career.mp3?orgId=552&topicId=1091&d=216&p=3&story=499710899&t=progseg&e=499700973&seg=17&siteplayer=true\n",
      "INFO:podcastdownload:writing file to ./output//20161028_me_scandals_tarnish_nj_gov_chris_christies_political_career.mp3\n",
      "INFO:podcastdownload:downloading https://ondemand.npr.org/anon.npr-mp3/npr/me/2016/10/20161028_me_europes_aid_plan_for_syrian_refugees_a_million_debit_cards_.mp3?orgId=1&topicId=1009&d=219&p=3&story=499327680&t=progseg&e=499700973&seg=18&siteplayer=true\n",
      "INFO:podcastdownload:writing file to ./output//20161028_me_europes_aid_plan_for_syrian_refugees_a_million_debit_cards_.mp3\n",
      "INFO:podcastdownload:downloading https://ondemand.npr.org/anon.npr-mp3/npr/me/2016/10/20161028_me_teens_want_more_education_about_the_electoral_process.mp3?orgId=181596702&topicId=1014&aggIds=4692815&d=220&p=3&story=499710906&t=progseg&e=499700973&seg=19&siteplayer=true\n",
      "INFO:podcastdownload:writing file to ./output//20161028_me_teens_want_more_education_about_the_electoral_process.mp3\n"
     ]
    }
   ],
   "source": [
    "mynpr.download()"
   ]
  },
  {
   "cell_type": "code",
   "execution_count": 23,
   "metadata": {
    "collapsed": false
   },
   "outputs": [
    {
     "data": {
      "text/plain": [
       "'2016-10-28'"
      ]
     },
     "execution_count": 23,
     "metadata": {},
     "output_type": "execute_result"
    }
   ],
   "source": [
    "datetime.datetime.today().strftime('%Y-%m-%d')"
   ]
  }
 ],
 "metadata": {
  "kernelspec": {
   "display_name": "Python 2",
   "language": "python",
   "name": "python2"
  },
  "language_info": {
   "codemirror_mode": {
    "name": "ipython",
    "version": 2
   },
   "file_extension": ".py",
   "mimetype": "text/x-python",
   "name": "python",
   "nbconvert_exporter": "python",
   "pygments_lexer": "ipython2",
   "version": "2.7.12"
  }
 },
 "nbformat": 4,
 "nbformat_minor": 1
}
