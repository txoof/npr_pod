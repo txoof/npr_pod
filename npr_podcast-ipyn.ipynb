{
 "cells": [
  {
   "cell_type": "code",
   "execution_count": 1,
   "metadata": {
    "collapsed": false
   },
   "outputs": [],
   "source": [
    "#!/usr/bin/env python\n",
    "# Copyright 2016 Aaron ciuffo\n",
    "\n",
    "version = '''NPR Podcast Downloader V5.0\n",
    "\n",
    "by Aaron Ciuffo (txoof.com)\n",
    "released without warranty under GPLV3:\n",
    "http://www.gnu.org/licenses/gpl-3.0.html\n",
    "Please don't sue me.\n",
    "'''\n",
    "\n",
    "programName = 'podcastdownload'\n",
    "\n",
    "# Imports\n",
    "from datetime import datetime # for time stuff\n",
    "import pytz\n",
    "import logging # logging library\n",
    "from urllib2 import urlopen # standard library for interfacing with web resources\n",
    "import re # regular expressions\n",
    "import json # handle JSON objects\n",
    "import os # Opperating System interface \n",
    "import sys # internal opperations including a list of imported modules\n",
    "import argparse # parse command line arguments\n",
    "import ConfigParser # parse config files\n",
    "\n"
   ]
  },
  {
   "cell_type": "markdown",
   "metadata": {},
   "source": [
    "# TO DO\n",
    " * update the output path to match the date of the show and a 0 or 2 for morning/evening\n",
    " * Look at m3u; don't do anything if complete; download missing segments?\n",
    "\n",
    "By default teh script should not repeat a download unless asked"
   ]
  },
  {
   "cell_type": "code",
   "execution_count": 2,
   "metadata": {
    "collapsed": false
   },
   "outputs": [],
   "source": [
    "def loadModules():\n",
    "    '''load non standard python modules'''\n",
    "    \n",
    "    logging.debug('loading module: requests')\n",
    "    try:\n",
    "        global requests\n",
    "        import requests\n",
    "    except Exception as e:\n",
    "        logging.critical('Fatal Error\\nFailed to load module: requests\\n%s', e)\n",
    "        logging.critical('Please install requests module: http://docs.python-requests.org/')\n",
    "        exit(2)\n",
    "        return(False)\n",
    "\n",
    "    logging.debug('loading module: mutagen.mp3')\n",
    "    # create a global list of all the taggers available\n",
    "    global taggers\n",
    "    taggers = {}\n",
    "    try:\n",
    "        global MP3\n",
    "        from mutagen.mp3 import EasyMP3 as MP3\n",
    "    except Exception, e:\n",
    "        logging.critical('Failed to load module: mutagen.mp3\\n%s', e)\n",
    "        logging.critical('tagging may not be available')    \n",
    "    taggers['mp3'] = MP3\n",
    "\n",
    "    \n",
    "    logging.debug('loading module: mutagen.mp4')\n",
    "    try:\n",
    "        global MP4\n",
    "        from mutagen.mp4 import MP4\n",
    "    except Exception, e:\n",
    "        logging.critical('Failed to load module: mutagen.mp4\\n%s', e)\n",
    "        logging.critical('tagging may not be available')    \n",
    "    taggers['mp4'] = MP4\n",
    "\n",
    "    return(True)"
   ]
  },
  {
   "cell_type": "code",
   "execution_count": 3,
   "metadata": {
    "collapsed": false
   },
   "outputs": [],
   "source": [
    "class Episode():\n",
    "    '''Podcast episode object'''\n",
    "\n",
    "    def __init__(self):\n",
    "        '''\n",
    "        Attributes:\n",
    "            name (str): name of episode/podcast\n",
    "            programURL (str): Index URL\n",
    "            segments (list): Segment() objects to be downloaded\n",
    "            outputBasePath (str): base path to use for output of files (default is ./)\n",
    "            outputPath (str): full path to output the downloaded podcast files\n",
    "            m3u (str): m3u playlist filename\n",
    "            downloadLog (str): download log filename\n",
    "        '''\n",
    "        self.name = \"undef\" # str\n",
    "        self.programURL = \"undef\" # str\n",
    "        self.segments = [] # list\n",
    "        self.showDate ='' # str\n",
    "        self.outputBasePath = './' # str\n",
    "        self.outputPath = self.setOutputPath() # str\n",
    "        self.m3u = 'playlist'\n",
    "        self.downloadLog = 'download.log'\n",
    "        \n",
    "    def _slugify(self, value):\n",
    "        \"\"\"\n",
    "        Normalizes string, converts to lowercase, removes non-alpha characters,\n",
    "        and converts spaces to hyphens.\n",
    "\n",
    "        From Django's \"django/template/defaultfilters.py\".\n",
    "        Args:\n",
    "            value (str): string to be normalized for use with a filename\n",
    "        \n",
    "        Returns:\n",
    "            unicode: sluggified string\n",
    "        \"\"\"\n",
    "        _slugify_strip_re = re.compile(r'[^\\w\\s-]')\n",
    "        _slugify_hyphenate_re = re.compile(r'[-\\s]+')\n",
    "\n",
    "        import unicodedata\n",
    "        if not isinstance(value, unicode):\n",
    "            value = unicode(value)\n",
    "        value = unicodedata.normalize('NFKD', value).encode('ascii', 'ignore')\n",
    "        value = unicode(_slugify_strip_re.sub('', value).strip())\n",
    "        return _slugify_hyphenate_re.sub('-', value)\n",
    "\n",
    "    \n",
    "    def setOutputPath(self, episodePath = ''):\n",
    "        '''\n",
    "        Update the output path to include any additional path information for an episode\n",
    "        Args:\n",
    "            episodePath (str): additional path to be appended \n",
    "        \n",
    "        Returns:\n",
    "            bool: True\n",
    "        '''\n",
    "        self.outputPath = self.outputBasePath +  episodePath + '/'\n",
    "        return(True)\n",
    "    \n",
    "    def setM3U(self, name = 'playlist'):\n",
    "        '''\n",
    "        Update the m3u file name\n",
    "        Args:\n",
    "            name (str): filename for the m3u\n",
    "        '''\n",
    "        self.m3u = self._slugify(name) + '.m3u'\n",
    "        return(True)\n",
    "    \n",
    "    def writeM3U(self):\n",
    "        '''\n",
    "        Write M3U playlist for the episode in the root of the output directory\n",
    "        Args:\n",
    "        \n",
    "        Returns:\n",
    "            bool: True\n",
    "        '''\n",
    "        logger.info('opening m3u playlist: %s', self.m3u)\n",
    "        try:\n",
    "            m3ufile = open(self.outputBasePath + self.m3u, 'w')\n",
    "        except Exception as e:\n",
    "            logger.error('could not open m3u file: %s\\n%s', self.m3u, e)\n",
    "            return(False)\n",
    "        logger.debug('writing segments to: %s', self.m3u)\n",
    "        # recurse all the segments \n",
    "        for segment in self.segments:\n",
    "            # if it was successfully downloaded write it to the m3u file\n",
    "            if segment.downloaded:\n",
    "                logger.debug('writing segment: %s', segment.filename)\n",
    "                try:\n",
    "                    m3ufile.write(segment.filename + '\\n')\n",
    "                except Exception as e:\n",
    "                    logger.error('could not write to: %s\\n%s', self.m3u, e)\n",
    "                    logger.error('halting m3u writing')\n",
    "                    return(False)\n",
    "        # cleanup\n",
    "        try:\n",
    "            m3ufile.close()\n",
    "        except Exception as e:\n",
    "            logger.error('could not close m3u file: %s\\n%s', self.m3u, e)\n",
    "            return(False)\n",
    "        \n",
    "        return(True)\n",
    "    \n",
    "    \n",
    "    def download(self):\n",
    "        '''\n",
    "        Download all segments in self.segment into self.outputPath\n",
    "        Returns: \n",
    "            bool: True for successful download of all segments\n",
    "        '''\n",
    "        \n",
    "        success = True\n",
    "        \n",
    "        logger.info('downloding program: %s', self.name)\n",
    "        \n",
    "        # check for output path\n",
    "        if not os.path.isdir(self.outputPath):\n",
    "            try:\n",
    "                os.makedirs(self.outputPath)\n",
    "            except Exception as e:\n",
    "                logger.error('could not create outputpath for this episdoe at: %s\\n%s', self.outputPath, e)\n",
    "                logger.error('download failed')\n",
    "                return(False)\n",
    "        \n",
    "        for segment in self.segments:\n",
    "            # update the path for the current segment\n",
    "            filePath = self.outputPath + segment.filename\n",
    "            logger.debug('downloading %s', segment.audioURL)\n",
    "            try:\n",
    "                audioFile = urlopen(segment.audioURL).read()\n",
    "            except Exception as e:\n",
    "                logger.warning('could not download segment number: %s\\nerrors follow', segment.number)\n",
    "                logger.warning(e)\n",
    "                success = False\n",
    "                continue\n",
    "                \n",
    "            logger.info('writing file to %s', filePath)\n",
    "            try:\n",
    "                with open(filePath, 'wb') as code:\n",
    "                    code.write(audioFile)\n",
    "                    # record if the writing was successful\n",
    "                    segment.downloaded = True\n",
    "            except Exception as e:\n",
    "                logging.warning('could not write segment number %s to %s\\nerrors follow', segment.number, filePath)\n",
    "                logging.warning(e)\n",
    "                success = False\n",
    "                continue\n",
    "            \n",
    "        self.logDownload()\n",
    "        return(success)       \n",
    "            \n",
    "            \n",
    "    def logDownload(self):\n",
    "        '''\n",
    "        Log successfully downloaded episodes\n",
    "        Args:\n",
    "        \n",
    "        Returns: \n",
    "            bool: True\n",
    "        '''\n",
    "        logFile = self.outputBasePath + self.downloadLog\n",
    "        \n",
    "        logging.debug('opening log file: %s', logFile)\n",
    "        try:\n",
    "            f = open(logFile, 'a')\n",
    "        except Exception as e:\n",
    "            logging.error('could not open log file: %s\\n%s', logFile, e)\n",
    "            return(False)\n",
    "        \n",
    "        try: \n",
    "            f.write(self.outputPath + '\\n')\n",
    "        except Exception as e:\n",
    "            logging.error('could not write to log file: %s\\n%s', logFile, e)\n",
    "            return(False)\n",
    "        \n",
    "        try:\n",
    "            f.close()\n",
    "        except Exception as e:\n",
    "            logging.error('could not close log file: %s\\n%s', logFile, e)\n",
    "            return(False)\n",
    "        \n",
    "        return(True)\n",
    "            \n",
    "    \n",
    "    def addSegment(self, segment):\n",
    "        '''\n",
    "        Add a downloadable segment to the segment list\n",
    "        Args:\n",
    "            segment (Segment): Segment() object containing information\n",
    "        Returns:\n",
    "            bool: True\n",
    "        '''\n",
    "        self.segments.append(segment)\n",
    "        return(True)\n",
    "        \n",
    "            \n",
    "    def tagSegments(self):\n",
    "        '''\n",
    "        Tag all downloaded segments\n",
    "        Args:\n",
    "\n",
    "        Returns:\n",
    "            bool: True\n",
    "        '''\n",
    "        logger.info('tagging segments')\n",
    "        for segment in self.segments:\n",
    "            filename = self.outputPath + segment.filename\n",
    "            try:\n",
    "                filetype = re.search('\\.(\\w+$)', filename).group(1)\n",
    "            except:\n",
    "                filetype = None\n",
    "\n",
    "            if filetype.lower() in taggers:\n",
    "                logger.debug('tagging %s', filename)\n",
    "                myTagger = taggers[filetype]\n",
    "                audio = myTagger(filename)\n",
    "                \n",
    "                audio['title'] = segment.title\n",
    "                audio['tracknumber'] = str(segment.number)\n",
    "                audio['album'] = segment.programName\n",
    "                \n",
    "                try:\n",
    "                    audio.save()\n",
    "                except Exception as e:\n",
    "                    logger.error('could not write tags for: %s\\n%s', filename, e)        \n",
    "            else:\n",
    "                logger.info('could not tag, unknown filetype: %s', filename) \n",
    "            \n",
    "        return(True)   "
   ]
  },
  {
   "cell_type": "code",
   "execution_count": 4,
   "metadata": {
    "collapsed": false
   },
   "outputs": [],
   "source": [
    "class NPREpisode(Episode, object):\n",
    "    '''NPR News episode object'''\n",
    "    \n",
    "    def __init__(self):\n",
    "        super(NPREpisode, self).__init__()\n",
    "        self.jsonData = None\n",
    "\n",
    "    def recentEpisodes(self):\n",
    "        '''Identify the most recent episodes'''\n",
    "        pass\n",
    "        \n",
    "        \n",
    "    def getepisode_API():\n",
    "        '''\n",
    "        Use the NPR API to get a list of episodes\n",
    "        Not yet implemented\n",
    "        '''\n",
    "        pass\n",
    "    \n",
    "    def getepisode_HTML(self):\n",
    "        '''\n",
    "        Scrape the HTML for JSON containing the date segment and title information\n",
    "        Attributes set here:\n",
    "            self.jsonData (json obj) - JSON listing of episodes from NPR\n",
    "            self.showDate (str) - YYYY-MM-DD formatted string\n",
    "            self.name (str) - human readable show name \n",
    "            self.segments (:obj: Segment) - episode segments are populated and added\n",
    "\n",
    "        Returns: \n",
    "            bool: True if successful, False otherwise\n",
    "        '''\n",
    "        \n",
    "        logger.info('fetching episode info via HTML method')\n",
    "        logger.debug('source: %s' % self.programURL)\n",
    "        \n",
    "        # search terms hardcoded here\n",
    "        search_PlayAll = \"<b.*data-play-all='({.*})'><\\/b>\" #re search string for JSON data in program HTML\n",
    "        search_FileName = \"(^[\\s|\\w|\\.|'|-]*)\\[?|$]\" #(anySpaces OR anyWords OR anyPeriod OR any' OR any-)? OR EOL\n",
    "        search_showDate = \"datetime=\\\"(\\d{4}-\\d{2}-\\d{2})\" #re search for show date\n",
    "               \n",
    "        \n",
    "        # variables defined here\n",
    "        filename = '' # extracted filename for each segment\n",
    "        \n",
    "        # add an extension to help differentiate between episodes; set to epoch seconds to prevent clobbering\n",
    "        # if no valid extension is set elsewhere\n",
    "        output_extension = int((datetime.now() - datetime.utcfromtimestamp(0)).total_seconds())\n",
    "        \n",
    "       \n",
    "        try: # fetch the full show HTML\n",
    "            programHTML = urlopen(self.programURL).read()\n",
    "        except Exception as e:\n",
    "            logging.warning('could not fetch episode information from %s' % self.programURL)\n",
    "            logging.error(e)\n",
    "            return(False)\n",
    "        logger.info('HTML retrieved')\n",
    "        \n",
    "        # find the show date and record it \n",
    "        self.showDate = re.search(search_showDate, programHTML).group(1)\n",
    "        \n",
    "        if len(self.showDate) < 1:\n",
    "            logger.warning('no valid showDate found')\n",
    "        else: logger.info('show date: %s', self.showDate)\n",
    "        \n",
    "        try: # find the JSON program data\n",
    "            self.jsonData = json.loads(re.search(search_PlayAll, programHTML).group(1))\n",
    "        except Exception as e:\n",
    "            logger.error('no valid JSON episode listing found in HTML from %s', self.programURL)\n",
    "            logger.error(e)\n",
    "            return(False)\n",
    "        \n",
    "        # check that some JSON data was found - not terribly robust\n",
    "        if len(self.jsonData['audioData']) > 1:\n",
    "            logger.debug('JSON program information found for %s', self.jsonData['audioData'][0]['program'].upper())\n",
    "            self.name = self.jsonData['audioData'][0]['program'].upper() # set the episode name\n",
    "            logger.debug('segments found: %s', len(self.jsonData['audioData']))\n",
    "        else:\n",
    "            logger.warn('no valid audioData found in JSON object for this program')\n",
    "            return(False)\n",
    "        \n",
    "        # grab the first character of each word in the program name; grab the last two characters of the last word\n",
    "        if len(self.name) > 0:\n",
    "            short_name = '_'\n",
    "            output_extension = '_'\n",
    "            for each, val in enumerate(self.name.split(' ')):\n",
    "                if each + 1 >= len(self.name.split(' ')):\n",
    "                    char = 2\n",
    "                else: \n",
    "                    char = 1\n",
    "                output_extension = output_extension + val[:char]\n",
    "                short_name = short_name + val[:char]\n",
    "\n",
    "\n",
    "        self.setOutputPath(self.showDate + short_name) #update the output path to include the show date        \n",
    "        logger.debug('output path set to: %s', self.outputPath)\n",
    "        \n",
    "        #set m3u name\n",
    "        self.setM3U(self.showDate + '-' + self.name)\n",
    "        logger.debug('m3u filename set to: %s', self.m3u)\n",
    "        \n",
    "        # recurse the JSON object and find all the audioData information\n",
    "        for key, val in enumerate(self.jsonData['audioData']):\n",
    "            logger.debug('%s - %s', int(key)+1, val['title'] )\n",
    "            try:\n",
    "                audioURL = val['audioUrl'] \n",
    "                title = val['title']\n",
    "            except Exception as e:\n",
    "                    logger.warning('failed to parse JSON data: %s', e)\n",
    "                    \n",
    "            number = int(key)+1 # set the human readable segment number\n",
    "            filename = re.search(search_FileName, val['audioUrl'].split('/')[-1:][0]).group(1) # set the filename\n",
    "            \n",
    "            # append the segment number\n",
    "            filename = str(number).zfill(3) + '_' + filename\n",
    "            \n",
    "            if filename < 1:\n",
    "                logger.warning('no filename found; dropping segment')\n",
    "                continue\n",
    "\n",
    "            self.addSegment(Segment(audioURL = audioURL, filename = filename, \n",
    "                                    number = number, programName = self.name,\n",
    "                                    title = title))\n",
    "            \n",
    "        return(True)\n",
    "            "
   ]
  },
  {
   "cell_type": "code",
   "execution_count": 5,
   "metadata": {
    "collapsed": false
   },
   "outputs": [],
   "source": [
    "class Segment():\n",
    "    '''One segment of a podcast'''\n",
    "    \n",
    "    def __init__(self, audioURL, filename, number, programName, title = None):\n",
    "        '''\n",
    "        Args:\n",
    "            audioURL (str): URL to specific downloadable content\n",
    "            filename (str): output filename\n",
    "            title (str): human readable segment title\n",
    "            programName (str): program Name\n",
    "            number (int): ordinal number of segment\n",
    "            downloaded (boo): true if segment was successfully downloaded\n",
    "            \n",
    "        '''\n",
    "        self.audioURL = audioURL\n",
    "        self.number = number\n",
    "        self.filename = filename\n",
    "        self.title = title\n",
    "        self.programName = programName\n",
    "        self.downloaded = False "
   ]
  },
  {
   "cell_type": "code",
   "execution_count": 16,
   "metadata": {
    "collapsed": false
   },
   "outputs": [
    {
     "name": "stderr",
     "output_type": "stream",
     "text": [
      "INFO:podcastdownload:starting log\n"
     ]
    }
   ],
   "source": [
    "def main(argv=None):\n",
    "    # set the default logging level\n",
    "    loglevel = 'DEBUG'\n",
    "    # get the numeric level from the logging module \n",
    "    numeric_level = getattr(logging, loglevel.upper())\n",
    "    \n",
    "    if not isinstance(numeric_level, int):\n",
    "        raise ValueError('Invalid log level: %s' % loglevel)\n",
    "    \n",
    "    # create a logging instance\n",
    "    logging.basicConfig(level=numeric_level)\n",
    "    logger = logging.getLogger(programName)\n",
    "    \n",
    "    # create a file handler and set the level that shold be logged\n",
    "    handler = logging.FileHandler(programName+'.log')\n",
    "    handler.setLevel(numeric_level)\n",
    "    \n",
    "    # add the handeler to the logger object\n",
    "    logger.addHandler(handler)\n",
    "    \n",
    "    logger.info('starting log')\n",
    "    \n",
    "    if not loadModules():\n",
    "        logger.\n",
    "    \n",
    "main()\n"
   ]
  },
  {
   "cell_type": "code",
   "execution_count": 16,
   "metadata": {
    "collapsed": false
   },
   "outputs": [
    {
     "name": "stderr",
     "output_type": "stream",
     "text": [
      "INFO:podcastdownload:starting log\n",
      "DEBUG:root:loading module: requests\n",
      "DEBUG:root:loading module: mutagen.mp3\n",
      "DEBUG:root:loading module: mutagen.mp4\n"
     ]
    },
    {
     "data": {
      "text/plain": [
       "True"
      ]
     },
     "execution_count": 16,
     "metadata": {},
     "output_type": "execute_result"
    }
   ],
   "source": [
    "logger.info('starting log')\n",
    "\n",
    "loadModules()\n"
   ]
  },
  {
   "cell_type": "code",
   "execution_count": 17,
   "metadata": {
    "collapsed": false
   },
   "outputs": [
    {
     "name": "stdout",
     "output_type": "stream",
     "text": [
      "2017-01-16 08:52:31.068201-05:00\n"
     ]
    }
   ],
   "source": [
    "now_utc = datetime.now(pytz.timezone('UTC'))\n",
    "now_east = now_utc.astimezone(pytz.timezone('US/Eastern'))\n",
    "print now_east\n",
    "\n",
    "\n"
   ]
  },
  {
   "cell_type": "code",
   "execution_count": 19,
   "metadata": {
    "collapsed": false
   },
   "outputs": [
    {
     "name": "stderr",
     "output_type": "stream",
     "text": [
      "INFO:podcastdownload:fetching episode info via HTML method\n",
      "DEBUG:podcastdownload:source: http://www.npr.org/programs/morning-edition/\n",
      "INFO:podcastdownload:HTML retrieved\n",
      "INFO:podcastdownload:show date: 2017-01-16\n",
      "DEBUG:podcastdownload:JSON program information found for MORNING EDITION\n",
      "DEBUG:podcastdownload:segments found: 17\n",
      "DEBUG:podcastdownload:output path set to: ./output/2017-01-16_MED/\n",
      "DEBUG:podcastdownload:m3u filename set to: 2017-01-16-MORNING-EDITION.m3u\n",
      "DEBUG:podcastdownload:1 - Sen. Risch Says Trump Administration Will Be 'Much Stronger' On Russia\n",
      "DEBUG:podcastdownload:2 - Trump's Promises Of Deportations Create Uncertainty For N.J. Family\n",
      "DEBUG:podcastdownload:3 - With His Choice Of Inauguration Prayer Leaders, Trump Shows His Values\n",
      "DEBUG:podcastdownload:4 - 'Indianians' No More: 'Hoosier' Gets Official Status\n",
      "DEBUG:podcastdownload:5 - Ambassador To China Shares Lessons Learned With The Next Administration\n",
      "DEBUG:podcastdownload:6 - Scientists Have Twisted Molecules Into The Tightest Knot Ever\n",
      "DEBUG:podcastdownload:7 - The House Always Wins. Then He Came Along\n",
      "DEBUG:podcastdownload:8 - Obama Declares Site Of 1963 Church Bombing A National Monument\n",
      "DEBUG:podcastdownload:9 - 'The Soul's Gonna Speak': Run The Jewels Stares Down A Fraught 2017\n",
      "DEBUG:podcastdownload:10 - Pelosi Says Democrats Will 'Fight The Fight Again' Over Health Care\n",
      "DEBUG:podcastdownload:11 - Women Are Making Their Voices Heard In Male-Dominated Japanese Politics\n",
      "DEBUG:podcastdownload:12 - Obama Administration Ends Policy To Let Cubans Enter U.S. Without Visa\n",
      "DEBUG:podcastdownload:13 - What One Family Sacrificed To Help Black People Vote In 1966\n",
      "DEBUG:podcastdownload:14 - The Rewards Of House Cleaning: Finding A Winning Lottery Ticket \n",
      "DEBUG:podcastdownload:15 - Sen. Angus King On Trump's Cabinet Picks\n",
      "DEBUG:podcastdownload:16 - Flipping A Switch In The Brain Turns Lab Rodents Into Killer Mice\n",
      "DEBUG:podcastdownload:17 - Female Wrestlers Are Unlikely Heroines Of Bollywood's Biggest Smash\n"
     ]
    },
    {
     "data": {
      "text/plain": [
       "True"
      ]
     },
     "execution_count": 19,
     "metadata": {},
     "output_type": "execute_result"
    }
   ],
   "source": [
    "mynpr = NPREpisode()\n",
    "mynpr.outputBasePath = './output/'\n",
    "mynpr.setOutputPath('foo')\n",
    "#mynpr.programURL = 'http://www.npr.org/programs/all-things-considered'\n",
    "mynpr.programURL = 'http://www.npr.org/programs/morning-edition/'\n",
    "#mynpr.programURL = 'http://www.npr.org/programs/wait-wait-dont-tell-me/'\n",
    "\n",
    "mynpr.getepisode_HTML()"
   ]
  },
  {
   "cell_type": "code",
   "execution_count": 20,
   "metadata": {
    "collapsed": false
   },
   "outputs": [
    {
     "name": "stdout",
     "output_type": "stream",
     "text": [
      "2017-01-16-MORNING-EDITION.m3u\n"
     ]
    }
   ],
   "source": [
    "#mynpr.showDate + '-' +mynpr.name.replace(' ', '_') + '.m3u'\n",
    "mynpr.setM3U(mynpr.showDate + '-' + mynpr.name)\n",
    "#mynpr.setM3U('foobar')\n",
    "print mynpr.m3u"
   ]
  },
  {
   "cell_type": "code",
   "execution_count": 21,
   "metadata": {
    "collapsed": false
   },
   "outputs": [
    {
     "name": "stderr",
     "output_type": "stream",
     "text": [
      "INFO:podcastdownload:downloding program: MORNING EDITION\n",
      "DEBUG:podcastdownload:downloading https://ondemand.npr.org/anon.npr-mp3/npr/me/2017/01/20170113_me_sen_risch_says_trump_administration_will_be_much_stronger_on_russia.mp3?orgId=1&topicId=1014&d=331&p=3&story=509624434&t=progseg&e=509615548&seg=1&ft=nprml&f=509624434&siteplayer=true\n",
      "INFO:podcastdownload:writing file to ./output/2017-01-16_MED/001_20170113_me_sen_risch_says_trump_administration_will_be_much_stronger_on_russia.mp3\n",
      "DEBUG:podcastdownload:downloading https://ondemand.npr.org/anon.npr-mp3/npr/me/2017/01/20170113_me_trumps_promises_of_deportations_create_uncertainty_for_nj_family.mp3?orgId=1&topicId=1014&d=282&p=3&story=509547916&t=progseg&e=509615548&seg=2&ft=nprml&f=509547916&siteplayer=true\n",
      "INFO:podcastdownload:writing file to ./output/2017-01-16_MED/002_20170113_me_trumps_promises_of_deportations_create_uncertainty_for_nj_family.mp3\n",
      "DEBUG:podcastdownload:downloading https://ondemand.npr.org/anon.npr-mp3/npr/me/2017/01/20170113_me_with_his_choice_of_inauguration_prayer_leaders_trump_shows_his_values.mp3?orgId=1&topicId=1016&d=423&p=3&story=509558608&t=progseg&e=509615548&seg=3&ft=nprml&f=509558608&siteplayer=true\n",
      "INFO:podcastdownload:writing file to ./output/2017-01-16_MED/003_20170113_me_with_his_choice_of_inauguration_prayer_leaders_trump_shows_his_values.mp3\n",
      "DEBUG:podcastdownload:downloading https://ondemand.npr.org/anon.npr-mp3/npr/me/2017/01/20170113_me_hr1_return_-_alyssa.mp3?orgId=1&topicId=1091&d=29&p=3&story=509624441&t=progseg&e=509615548&seg=4&ft=nprml&f=509624441&siteplayer=true\n",
      "INFO:podcastdownload:writing file to ./output/2017-01-16_MED/004_20170113_me_hr1_return_-_alyssa.mp3\n",
      "DEBUG:podcastdownload:downloading https://ondemand.npr.org/anon.npr-mp3/npr/me/2017/01/20170113_me_exiting_ambassador_to_china_shares_lessons_for_the_next_president.mp3?orgId=1&topicId=1004&d=281&p=3&story=509624448&t=progseg&e=509615548&seg=5&ft=nprml&f=509624448&siteplayer=true\n",
      "INFO:podcastdownload:writing file to ./output/2017-01-16_MED/005_20170113_me_exiting_ambassador_to_china_shares_lessons_for_the_next_president.mp3\n",
      "DEBUG:podcastdownload:downloading https://ondemand.npr.org/anon.npr-mp3/npr/me/2017/01/20170113_me_scientists_have_twisted_molecules_into_the_tightest_knot_ever.mp3?orgId=1&topicId=1007&d=154&p=3&story=509353074&t=progseg&e=509615548&seg=6&ft=nprml&f=509353074&siteplayer=true\n",
      "INFO:podcastdownload:writing file to ./output/2017-01-16_MED/006_20170113_me_scientists_have_twisted_molecules_into_the_tightest_knot_ever.mp3\n",
      "DEBUG:podcastdownload:downloading https://ondemand.npr.org/anon.npr-mp3/npr/me/2017/01/20170113_me_the_house_always_wins_until_he_came_along.mp3?orgId=1&topicId=1017&d=216&p=3&story=509624455&t=progseg&e=509615548&seg=7&ft=nprml&f=509624455&siteplayer=true\n",
      "INFO:podcastdownload:writing file to ./output/2017-01-16_MED/007_20170113_me_the_house_always_wins_until_he_came_along.mp3\n",
      "DEBUG:podcastdownload:downloading https://ondemand.npr.org/anon.npr-mp3/npr/me/2017/01/20170113_me_obama_declares_site_of_1963_church_bombing_a_national_monument.mp3?orgId=315&topicId=1091&d=176&p=3&story=509624462&t=progseg&e=509615548&seg=8&ft=nprml&f=509624462&siteplayer=true\n",
      "INFO:podcastdownload:writing file to ./output/2017-01-16_MED/008_20170113_me_obama_declares_site_of_1963_church_bombing_a_national_monument.mp3\n",
      "DEBUG:podcastdownload:downloading https://ondemand.npr.org/anon.npr-mp3/npr/me/2017/01/20170113_me_the_souls_gonna_speak_run_the_jewels_stares_down_a_fraught_2017.mp3?orgId=1&topicId=1105&d=206&p=3&story=509528917&t=progseg&e=509615548&seg=9&ft=nprml&f=509528917&siteplayer=true\n",
      "INFO:podcastdownload:writing file to ./output/2017-01-16_MED/009_20170113_me_the_souls_gonna_speak_run_the_jewels_stares_down_a_fraught_2017.mp3\n",
      "DEBUG:podcastdownload:downloading https://ondemand.npr.org/anon.npr-mp3/npr/me/2017/01/20170113_me_pelosi_says_democrats_will_fight_the_fight_again_over_health_care.mp3?orgId=1&topicId=1014&d=372&p=3&story=509624469&t=progseg&e=509615548&seg=10&ft=nprml&f=509624469&siteplayer=true\n",
      "INFO:podcastdownload:writing file to ./output/2017-01-16_MED/010_20170113_me_pelosi_says_democrats_will_fight_the_fight_again_over_health_care.mp3\n",
      "DEBUG:podcastdownload:downloading https://ondemand.npr.org/anon.npr-mp3/npr/me/2017/01/20170113_me_women_are_making_their_voices_heard_in_male-dominated_japanese_politics.mp3?orgId=1&topicId=1125&d=251&p=3&story=509611952&t=progseg&e=509615548&seg=11&ft=nprml&f=509611952&siteplayer=true\n",
      "INFO:podcastdownload:writing file to ./output/2017-01-16_MED/011_20170113_me_women_are_making_their_voices_heard_in_male-dominated_japanese_politics.mp3\n",
      "DEBUG:podcastdownload:downloading https://ondemand.npr.org/anon.npr-mp3/npr/me/2017/01/20170113_me_obama_administration_ends_policy_to_let_cubans_enter_us_without_visa.mp3?orgId=1&topicId=1014&d=187&p=3&story=509624476&t=progseg&e=509615548&seg=12&ft=nprml&f=509624476&siteplayer=true\n",
      "INFO:podcastdownload:writing file to ./output/2017-01-16_MED/012_20170113_me_obama_administration_ends_policy_to_let_cubans_enter_us_without_visa.mp3\n",
      "DEBUG:podcastdownload:downloading https://ondemand.npr.org/anon.npr-mp3/npr/me/2017/01/20170113_me_what_one_family_sacrificed_to_help_black_people_vote_in_1966.mp3?orgId=1&topicId=1022&aggIds=4516989&d=203&p=3&story=509495656&t=progseg&e=509615548&seg=13&ft=nprml&f=509495656&siteplayer=true\n",
      "INFO:podcastdownload:writing file to ./output/2017-01-16_MED/013_20170113_me_what_one_family_sacrificed_to_help_black_people_vote_in_1966.mp3\n",
      "DEBUG:podcastdownload:downloading https://ondemand.npr.org/anon.npr-mp3/npr/me/2017/01/20170113_me_hr2_return.mp3?orgId=1&topicId=1091&d=28&p=3&story=509624483&t=progseg&e=509615548&seg=14&ft=nprml&f=509624483&siteplayer=true\n",
      "INFO:podcastdownload:writing file to ./output/2017-01-16_MED/014_20170113_me_hr2_return.mp3\n",
      "DEBUG:podcastdownload:downloading https://ondemand.npr.org/anon.npr-mp3/npr/me/2017/01/20170113_me_sen_angus_king_on_trumps_cabinet_picks.mp3?orgId=1&topicId=1014&d=270&p=3&story=509624490&t=progseg&e=509615548&seg=15&ft=nprml&f=509624490&siteplayer=true\n",
      "INFO:podcastdownload:writing file to ./output/2017-01-16_MED/015_20170113_me_sen_angus_king_on_trumps_cabinet_picks.mp3\n",
      "DEBUG:podcastdownload:downloading https://ondemand.npr.org/anon.npr-mp3/npr/me/2017/01/20170113_me_flipping_a_switch_in_the_brain_turns_lab_rodents_into_killer_mice.mp3?orgId=1&topicId=1007&d=151&p=3&story=509487126&t=progseg&e=509615548&seg=16&ft=nprml&f=509487126&siteplayer=true\n",
      "INFO:podcastdownload:writing file to ./output/2017-01-16_MED/016_20170113_me_flipping_a_switch_in_the_brain_turns_lab_rodents_into_killer_mice.mp3\n",
      "DEBUG:podcastdownload:downloading https://ondemand.npr.org/anon.npr-mp3/npr/me/2017/01/20170113_me_bollywood_takes_on_bias_against_girls.mp3?orgId=1&topicId=1125&d=207&p=3&story=509624497&t=progseg&e=509615548&seg=17&ft=nprml&f=509624497&siteplayer=true\n",
      "INFO:podcastdownload:writing file to ./output/2017-01-16_MED/017_20170113_me_bollywood_takes_on_bias_against_girls.mp3\n",
      "DEBUG:root:opening log file: ./output/download.log\n"
     ]
    },
    {
     "data": {
      "text/plain": [
       "True"
      ]
     },
     "execution_count": 21,
     "metadata": {},
     "output_type": "execute_result"
    }
   ],
   "source": [
    "mynpr.download()"
   ]
  },
  {
   "cell_type": "code",
   "execution_count": 19,
   "metadata": {
    "collapsed": false
   },
   "outputs": [
    {
     "name": "stderr",
     "output_type": "stream",
     "text": [
      "INFO:podcastdownload:opening m3u playlist: 2017-01-13-MORNING-EDITION.m3u\n",
      "DEBUG:podcastdownload:writing segments to: 2017-01-13-MORNING-EDITION.m3u\n"
     ]
    },
    {
     "data": {
      "text/plain": [
       "True"
      ]
     },
     "execution_count": 19,
     "metadata": {},
     "output_type": "execute_result"
    }
   ],
   "source": [
    "mynpr.writeM3U()"
   ]
  },
  {
   "cell_type": "code",
   "execution_count": 20,
   "metadata": {
    "collapsed": false
   },
   "outputs": [
    {
     "name": "stderr",
     "output_type": "stream",
     "text": [
      "DEBUG:root:opening log file: ./output/download.log\n"
     ]
    },
    {
     "data": {
      "text/plain": [
       "True"
      ]
     },
     "execution_count": 20,
     "metadata": {},
     "output_type": "execute_result"
    }
   ],
   "source": [
    "mynpr.logDownload()\n"
   ]
  },
  {
   "cell_type": "code",
   "execution_count": 21,
   "metadata": {
    "collapsed": false
   },
   "outputs": [
    {
     "name": "stderr",
     "output_type": "stream",
     "text": [
      "INFO:podcastdownload:tagging segments\n",
      "DEBUG:podcastdownload:tagging ./output/2017-01-13_MED/001_20170113_me_sen_risch_says_trump_administration_will_be_much_stronger_on_russia.mp3\n",
      "DEBUG:podcastdownload:tagging ./output/2017-01-13_MED/002_20170113_me_trumps_promises_of_deportations_create_uncertainty_for_nj_family.mp3\n",
      "DEBUG:podcastdownload:tagging ./output/2017-01-13_MED/003_20170113_me_with_his_choice_of_inauguration_prayer_leaders_trump_shows_his_values.mp3\n",
      "DEBUG:podcastdownload:tagging ./output/2017-01-13_MED/004_20170113_me_hr1_return_-_alyssa.mp3\n",
      "DEBUG:podcastdownload:tagging ./output/2017-01-13_MED/005_20170113_me_exiting_ambassador_to_china_shares_lessons_for_the_next_president.mp3\n",
      "DEBUG:podcastdownload:tagging ./output/2017-01-13_MED/006_20170113_me_scientists_have_twisted_molecules_into_the_tightest_knot_ever.mp3\n",
      "DEBUG:podcastdownload:tagging ./output/2017-01-13_MED/007_20170113_me_the_house_always_wins_until_he_came_along.mp3\n",
      "DEBUG:podcastdownload:tagging ./output/2017-01-13_MED/008_20170113_me_obama_declares_site_of_1963_church_bombing_a_national_monument.mp3\n",
      "DEBUG:podcastdownload:tagging ./output/2017-01-13_MED/009_20170113_me_the_souls_gonna_speak_run_the_jewels_stares_down_a_fraught_2017.mp3\n",
      "DEBUG:podcastdownload:tagging ./output/2017-01-13_MED/010_20170113_me_pelosi_says_democrats_will_fight_the_fight_again_over_health_care.mp3\n",
      "DEBUG:podcastdownload:tagging ./output/2017-01-13_MED/011_20170113_me_women_are_making_their_voices_heard_in_male-dominated_japanese_politics.mp3\n",
      "DEBUG:podcastdownload:tagging ./output/2017-01-13_MED/012_20170113_me_obama_administration_ends_policy_to_let_cubans_enter_us_without_visa.mp3\n",
      "DEBUG:podcastdownload:tagging ./output/2017-01-13_MED/013_20170113_me_what_one_family_sacrificed_to_help_black_people_vote_in_1966.mp3\n",
      "DEBUG:podcastdownload:tagging ./output/2017-01-13_MED/014_20170113_me_hr2_return.mp3\n",
      "DEBUG:podcastdownload:tagging ./output/2017-01-13_MED/015_20170113_me_sen_angus_king_on_trumps_cabinet_picks.mp3\n",
      "DEBUG:podcastdownload:tagging ./output/2017-01-13_MED/016_20170113_me_flipping_a_switch_in_the_brain_turns_lab_rodents_into_killer_mice.mp3\n",
      "DEBUG:podcastdownload:tagging ./output/2017-01-13_MED/017_20170113_me_bollywood_takes_on_bias_against_girls.mp3\n"
     ]
    },
    {
     "data": {
      "text/plain": [
       "True"
      ]
     },
     "execution_count": 21,
     "metadata": {},
     "output_type": "execute_result"
    }
   ],
   "source": [
    "mynpr.tagSegments()"
   ]
  },
  {
   "cell_type": "markdown",
   "metadata": {},
   "source": [
    "http://stackoverflow.com/questions/3609852/which-is-the-best-way-to-allow-configuration-options-be-overridden-at-the-comman\n",
    "I just discovered you can do this with argparse.ArgumentParser.parse_known_args(). Start by using parse_known_args() to parse a configuration file form the commandline, then read it with ConfigParser and set the defaults, and then parse the rest of the options with parse_args(). This will allow you to have a default value, override that with a configuration file and then override that with a commandline option. E.g.:\n",
    "\n",
    "Default with no user input:\n",
    "\n",
    "$ ./argparse-partial.py\n",
    "Option is \"default\"\n",
    "Default from configuration file:\n",
    "\n",
    "$ cat argparse-partial.config \n",
    "[Defaults]\n",
    "option=Hello world!\n",
    "$ ./argparse-partial.py -c argparse-partial.config \n",
    "Option is \"Hello world!\"\n",
    "Default from configuration file, overridden by commandline:\n",
    "\n",
    "$ ./argparse-partial.py -c argparse-partial.config --option override\n",
    "Option is \"override\"\n",
    "argprase-partial.py follows. It is slightly complicated to handle -h for help properly.\n",
    "\n",
    "import argparse\n",
    "import ConfigParser\n",
    "import sys\n",
    "\n",
    "def main(argv=None):\n",
    "    # Do argv default this way, as doing it in the functional\n",
    "    # declaration sets it at compile time.\n",
    "    if argv is None:\n",
    "        argv = sys.argv\n",
    "\n",
    "    # Parse any conf_file specification\n",
    "    # We make this parser with add_help=False so that\n",
    "    # it doesn't parse -h and print help.\n",
    "    conf_parser = argparse.ArgumentParser(\n",
    "        description=__doc__, # printed with -h/--help\n",
    "        # Don't mess with format of description\n",
    "        formatter_class=argparse.RawDescriptionHelpFormatter,\n",
    "        # Turn off help, so we print all options in response to -h\n",
    "        add_help=False\n",
    "        )\n",
    "    conf_parser.add_argument(\"-c\", \"--conf_file\",\n",
    "                        help=\"Specify config file\", metavar=\"FILE\")\n",
    "    args, remaining_argv = conf_parser.parse_known_args()\n",
    "\n",
    "    defaults = { \"option\":\"default\" }\n",
    "\n",
    "    if args.conf_file:\n",
    "        config = ConfigParser.SafeConfigParser()\n",
    "        config.read([args.conf_file])\n",
    "        defaults.update(dict(config.items(\"Defaults\")))\n",
    "\n",
    "    # Parse rest of arguments\n",
    "    # Don't suppress add_help here so it will handle -h\n",
    "    parser = argparse.ArgumentParser(\n",
    "        # Inherit options from config_parser\n",
    "        parents=[conf_parser]\n",
    "        )\n",
    "    parser.set_defaults(**defaults)"
   ]
  },
  {
   "cell_type": "code",
   "execution_count": null,
   "metadata": {
    "collapsed": true
   },
   "outputs": [],
   "source": []
  },
  {
   "cell_type": "markdown",
   "metadata": {
    "collapsed": true
   },
   "source": [
    "See ./config.py for a working test configurator"
   ]
  },
  {
   "cell_type": "code",
   "execution_count": 109,
   "metadata": {
    "collapsed": false
   },
   "outputs": [
    {
     "name": "stdout",
     "output_type": "stream",
     "text": [
      "None\n",
      "/home/txoof/.local/share/jupyter/runtime/kernel-a762d3ef-2de3-438b-a96a-b6cb304459af.json\n"
     ]
    }
   ],
   "source": [
    "def main(argv = None):\n",
    "    # argv is set to none so sys.argv can be used later\n",
    "    \n",
    "    # initial parsing of the commandline arguments\n",
    "    if argv is None:\n",
    "        argv = sys.argv\n",
    "    \n",
    "    defaults = {'fconfig':'foo.ini', 'configfile':'settings.ini'}\n",
    "    \n",
    "    cmdlineParser = argparse.ArgumentParser(description=__doc__, \n",
    "                                            formatter_class=argparse.RawDescriptionHelpFormatter,\n",
    "                                            add_help=False)\n",
    "    cmdlineParser.add_argument('-f', '--fconfig', help='fake config file', metavar='FILE',\n",
    "                                action='store')\n",
    "    cmdlineParser.add_argument('-c', '--configfile', help='config file', metavar='FILE', \n",
    "                              action='store')\n",
    "    args, remaining_argv = cmdlineParser.parse_known_args()\n",
    "    \n",
    "    \n",
    "    print args.configfile\n",
    "    parser = argparse.ArgumentParser(parents=[cmdlineParser])\n",
    "    parser.set_defaults(**defaults)\n",
    "    #print parser.parse_args()\n",
    "    # configure parsers\n",
    "    print args.fconfig\n",
    "    # \n",
    "    return(remaining_argv)\n",
    "\n",
    "foo = main()"
   ]
  },
  {
   "cell_type": "code",
   "execution_count": 106,
   "metadata": {
    "collapsed": false
   },
   "outputs": [
    {
     "data": {
      "text/plain": [
       "[]"
      ]
     },
     "execution_count": 106,
     "metadata": {},
     "output_type": "execute_result"
    }
   ],
   "source": [
    "foo"
   ]
  },
  {
   "cell_type": "markdown",
   "metadata": {},
   "source": [
    "Create an argument parser and a config parser\n",
    "\n",
    "Good recipes\n",
    "    https://pymotw.com/2/ConfigParser/index.html#module-ConfigParser\n",
    "    https://pymotw.com/2/argparse/index.html#module-argparse"
   ]
  },
  {
   "cell_type": "code",
   "execution_count": 85,
   "metadata": {
    "collapsed": false
   },
   "outputs": [
    {
     "name": "stdout",
     "output_type": "stream",
     "text": [
      "Section: Defaults\n",
      "   options:  ['option', 'loglevel', 'outputpath', 'f']\n",
      "   option = 'hello world!'\n",
      "   loglevel = 'DEBUG'\n",
      "   outputpath = './output'\n",
      "   f = foobar\n",
      "\n",
      "Section: %All Things Considered\n",
      "   options:  ['url', 'fetchmethod', 'programs', 'updatedays', 'updatetime', 'timezone']\n",
      "   url = http://www.npr.org/programs/all-things-considered/\n",
      "   fetchmethod = HTML\n",
      "   programs = 2\n",
      "   updatedays = [0, 1, 2, 3, 4, 5, 6]\n",
      "   updatetime = 19:00\n",
      "   timezone = EST\n",
      "\n"
     ]
    }
   ],
   "source": [
    "import ConfigParser\n",
    "parser = ConfigParser.SafeConfigParser()\n",
    "parser.read('settings.ini')\n",
    "\n",
    "for section in parser.sections():\n",
    "    print 'Section:', section\n",
    "    print '   options: ', parser.options(section)\n",
    "    for name, value in parser.items(section):\n",
    "            print '   %s = %s' % (name, value)\n",
    "    print\n",
    "    \n",
    "\n",
    "configDict = {}\n",
    "configDict.update(dict(parser.items(\"Defaults\")))"
   ]
  },
  {
   "cell_type": "code",
   "execution_count": null,
   "metadata": {
    "collapsed": true
   },
   "outputs": [],
   "source": []
  },
  {
   "cell_type": "code",
   "execution_count": 110,
   "metadata": {
    "collapsed": false
   },
   "outputs": [
    {
     "data": {
      "text/plain": [
       "Namespace(f='/home/txoof/.local/share/jupyter/runtime/kernel-a762d3ef-2de3-438b-a96a-b6cb304459af.json', loglevel=\"'DEBUG'\", option=\"'hello world!'\", outputpath=\"'./output'\")"
      ]
     },
     "execution_count": 110,
     "metadata": {},
     "output_type": "execute_result"
    }
   ],
   "source": [
    "import argparse\n",
    "argparser = argparse.ArgumentParser()\n",
    "argparser.add_argument('-f', action =\"store\")\n",
    "\n",
    "argparser.set_defaults(**configDict)\n",
    "argparser.parse_args()"
   ]
  },
  {
   "cell_type": "code",
   "execution_count": 112,
   "metadata": {
    "collapsed": false
   },
   "outputs": [
    {
     "name": "stdout",
     "output_type": "stream",
     "text": [
      "Namespace(configfile='settings.ini', dryrun=False, f='foobar', fconfig='/home/txoof/.local/share/jupyter/runtime/kernel-a762d3ef-2de3-438b-a96a-b6cb304459af.json', loglevel=\"'DEBUG'\", option=\"'hello world!'\", outputpath=\"'./output'\")\n"
     ]
    }
   ],
   "source": [
    "def main(argv = None):\n",
    "    # argv is set to none so sys.argv can be used later\n",
    "\n",
    "    # initial parsing of the commandline arguments\n",
    "    if argv is None:\n",
    "        argv = sys.argv\n",
    "\n",
    "\n",
    "    cmdlineParser = argparse.ArgumentParser(description=__doc__,\n",
    "                                            formatter_class=argparse.RawDescriptionHelpFormatter,\n",
    "                                            add_help=False)\n",
    "    cmdlineParser.add_argument('-f', '--fconfig', help='fake config file', metavar='FILE',\n",
    "                                action='store')\n",
    "    cmdlineParser.add_argument('-c', '--configfile', help='config file', metavar='FILE',\n",
    "                              action='store', default='settings.ini')\n",
    "    cmdlineParser.add_argument('-d', '--dryrun', help='preform a dry run',\n",
    "                              action='store_true', default=False)\n",
    "\n",
    "    # remaining arguments\n",
    "    args, remaining_argv = cmdlineParser.parse_known_args()\n",
    "\n",
    "    # parse the configuration file\n",
    "    defaults = {}\n",
    "    configParser = ConfigParser.SafeConfigParser()\n",
    "    configParser.read(args.configfile)\n",
    "    defaults.update(dict(configParser.items('Defaults')))\n",
    "\n",
    "\n",
    "\n",
    "\n",
    "\n",
    "    # merge the command line with the config file options\n",
    "    parser = argparse.ArgumentParser(parents=[cmdlineParser])\n",
    "    parser.set_defaults(**defaults)\n",
    "    # configure parsers\n",
    "\n",
    "    #\n",
    "\n",
    "    print parser.parse_args()\n",
    "\n",
    "\n",
    "main()"
   ]
  },
  {
   "cell_type": "code",
   "execution_count": null,
   "metadata": {
    "collapsed": true
   },
   "outputs": [],
   "source": []
  }
 ],
 "metadata": {
  "kernelspec": {
   "display_name": "Python 2",
   "language": "python",
   "name": "python2"
  },
  "language_info": {
   "codemirror_mode": {
    "name": "ipython",
    "version": 2
   },
   "file_extension": ".py",
   "mimetype": "text/x-python",
   "name": "python",
   "nbconvert_exporter": "python",
   "pygments_lexer": "ipython2",
   "version": "2.7.12"
  }
 },
 "nbformat": 4,
 "nbformat_minor": 1
}
