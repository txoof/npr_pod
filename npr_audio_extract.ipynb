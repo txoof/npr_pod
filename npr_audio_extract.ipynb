{
 "cells": [
  {
   "cell_type": "code",
   "execution_count": 3,
   "metadata": {},
   "outputs": [],
   "source": [
    "from bs4 import BeautifulSoup\n",
    "\n",
    "import requests\n"
   ]
  },
  {
   "cell_type": "code",
   "execution_count": 6,
   "metadata": {},
   "outputs": [],
   "source": [
    "page = requests.get('https://www.npr.org/programs/all-things-considered/')\n"
   ]
  },
  {
   "cell_type": "code",
   "execution_count": 10,
   "metadata": {},
   "outputs": [],
   "source": [
    "soup = BeautifulSoup(page.content, 'html.parser')\n"
   ]
  },
  {
   "cell_type": "code",
   "execution_count": 36,
   "metadata": {
    "scrolled": false
   },
   "outputs": [],
   "source": [
    "articles = soup.find_all('article', {'class': \"rundown-segment\"})"
   ]
  },
  {
   "cell_type": "code",
   "execution_count": 37,
   "metadata": {},
   "outputs": [
    {
     "data": {
      "text/plain": [
       "22"
      ]
     },
     "execution_count": 37,
     "metadata": {},
     "output_type": "execute_result"
    }
   ],
   "source": [
    "len(articles)"
   ]
  },
  {
   "cell_type": "code",
   "execution_count": 55,
   "metadata": {},
   "outputs": [
    {
     "name": "stdout",
     "output_type": "stream",
     "text": [
      "https://ondemand.npr.org/anon.npr-mp3/npr/atc/2019/01/20190118_atc_buzzfeed_reports_trump_directed_cohen_to_lie_to_congress.mp3?orgId=1&topicId=1014&d=255&p=2&story=686696821&siteplayer=true&dl=1\n",
      "https://ondemand.npr.org/anon.npr-mp3/npr/atc/2019/01/20190118_atc_week_in_politics_the_buzzfeed_report_trump_and_pelosi_and_a_2nd_summit_with_north_korea.mp3?orgId=1&topicId=1014&d=453&p=2&story=686696828&siteplayer=true&dl=1\n",
      "https://ondemand.npr.org/anon.npr-mp3/npr/atc/2019/01/20190118_atc_more_spending_on_education_for_low-income_kids_improves_their_prospects.mp3?orgId=1&topicId=1013&d=261&p=2&story=686696835&siteplayer=true&dl=1\n",
      "https://ondemand.npr.org/anon.npr-mp3/npr/atc/2019/01/20190118_atc_billboard_reports_that_r_kelly_has_been_dropped_by_rca_records.mp3?orgId=1&topicId=1106&d=237&p=2&story=686641970&siteplayer=true&dl=1\n",
      "https://ondemand.npr.org/anon.npr-mp3/npr/atc/2019/01/20190118_atc_white_house_says_there_will_be_a_second_summit_with_north_korea.mp3?orgId=1&topicId=1122&d=221&p=2&story=686696842&siteplayer=true&dl=1\n",
      "https://ondemand.npr.org/anon.npr-mp3/npr/atc/2019/01/20190118_atc_who_is_north_korean_diplomat_kim_yong-chol.mp3?orgId=1&topicId=1125&d=273&p=2&story=686696849&siteplayer=true&dl=1\n",
      "https://ondemand.npr.org/anon.npr-mp3/npr/atc/2019/01/20190118_atc_looking_back_on_the_first_government_shutdown_in_us_history.mp3?orgId=1&topicId=1014&aggIds=94427042&d=215&p=2&story=686696856&siteplayer=true&dl=1\n",
      "https://ondemand.npr.org/anon.npr-mp3/npr/atc/2019/01/20190118_atc_glass_-_review.mp3?orgId=1&topicId=4467349&d=267&p=2&story=686696912&siteplayer=true&dl=1\n",
      "https://ondemand.npr.org/anon.npr-mp3/npr/atc/2019/01/20190118_atc_with_chicken_wire_and_frame_foam_bob_carr_expressed_uncontainable_joy.mp3?orgId=1&topicId=1062&d=212&p=2&story=686533352&siteplayer=true&dl=1\n",
      "https://ondemand.npr.org/anon.npr-mp3/npr/atc/2019/01/20190118_atc_trump_cohen_barr.mp3?orgId=1&topicId=1014&d=375&p=2&story=686696919&siteplayer=true&dl=1\n",
      "https://ondemand.npr.org/anon.npr-mp3/npr/atc/2019/01/20190118_atc_chicago_police_and_african-americans.mp3?orgId=1&topicId=1003&d=248&p=2&story=686696926&siteplayer=true&dl=1\n",
      "https://ondemand.npr.org/anon.npr-mp3/npr/atc/2019/01/20190118_atc_right_to_life_march.mp3?orgId=1&topicId=1003&d=230&p=2&story=686696933&siteplayer=true&dl=1\n",
      "https://ondemand.npr.org/anon.npr-mp3/npr/atc/2019/01/20190118_atc_nfl_quarterback_matchups.mp3?orgId=1&topicId=1055&d=256&p=2&story=686696940&siteplayer=true&dl=1\n",
      "https://ondemand.npr.org/anon.npr-mp3/npr/atc/2019/01/20190118_atc_trump_and_pelosi.mp3?orgId=1&topicId=1014&d=200&p=2&story=686696947&siteplayer=true&dl=1\n",
      "https://ondemand.npr.org/anon.npr-mp3/npr/atc/2019/01/20190118_atc_i_alone_can_fix_it.mp3?orgId=1&topicId=1014&d=207&p=2&story=686696954&siteplayer=true&dl=1\n",
      "https://ondemand.npr.org/anon.npr-mp3/npr/atc/2019/01/20190118_atc_order_order.mp3?orgId=1&topicId=1124&d=74&p=2&story=686696961&siteplayer=true&dl=1\n",
      "https://ondemand.npr.org/anon.npr-mp3/npr/atc/2019/01/20190118_atc_korea-sexual_abuse.mp3?orgId=1&topicId=1055&d=221&p=2&story=686696968&siteplayer=true&dl=1\n"
     ]
    },
    {
     "ename": "AttributeError",
     "evalue": "'NoneType' object has no attribute 'attrs'",
     "output_type": "error",
     "traceback": [
      "\u001b[0;31m---------------------------------------------------------------------------\u001b[0m",
      "\u001b[0;31mAttributeError\u001b[0m                            Traceback (most recent call last)",
      "\u001b[0;32m<ipython-input-55-62f08ee9013a>\u001b[0m in \u001b[0;36m<module>\u001b[0;34m()\u001b[0m\n\u001b[1;32m      1\u001b[0m \u001b[0;32mfor\u001b[0m \u001b[0marticle\u001b[0m \u001b[0;32min\u001b[0m \u001b[0marticles\u001b[0m\u001b[0;34m:\u001b[0m\u001b[0;34m\u001b[0m\u001b[0m\n\u001b[1;32m      2\u001b[0m     \u001b[0maudio\u001b[0m \u001b[0;34m=\u001b[0m \u001b[0marticle\u001b[0m\u001b[0;34m.\u001b[0m\u001b[0mfind\u001b[0m\u001b[0;34m(\u001b[0m\u001b[0;34m'a'\u001b[0m\u001b[0;34m,\u001b[0m \u001b[0;34m{\u001b[0m\u001b[0;34m'class'\u001b[0m\u001b[0;34m:\u001b[0m \u001b[0;34m'audio-module-listen'\u001b[0m\u001b[0;34m}\u001b[0m\u001b[0;34m)\u001b[0m\u001b[0;34m\u001b[0m\u001b[0m\n\u001b[0;32m----> 3\u001b[0;31m     \u001b[0maudioLink\u001b[0m \u001b[0;34m=\u001b[0m \u001b[0maudio\u001b[0m\u001b[0;34m.\u001b[0m\u001b[0mattrs\u001b[0m\u001b[0;34m[\u001b[0m\u001b[0;34m'href'\u001b[0m\u001b[0;34m]\u001b[0m\u001b[0;34m\u001b[0m\u001b[0m\n\u001b[0m\u001b[1;32m      4\u001b[0m     \u001b[0;32mprint\u001b[0m \u001b[0maudioLink\u001b[0m\u001b[0;34m\u001b[0m\u001b[0m\n",
      "\u001b[0;31mAttributeError\u001b[0m: 'NoneType' object has no attribute 'attrs'"
     ]
    }
   ],
   "source": [
    "for article in articles:\n",
    "    audio = article.find('a', {'class': 'audio-module-listen'})\n",
    "    audioLink = audio.attrs['href']\n",
    "    print audioLink"
   ]
  },
  {
   "cell_type": "code",
   "execution_count": null,
   "metadata": {},
   "outputs": [],
   "source": []
  },
  {
   "cell_type": "code",
   "execution_count": 45,
   "metadata": {},
   "outputs": [],
   "source": []
  },
  {
   "cell_type": "code",
   "execution_count": 53,
   "metadata": {},
   "outputs": [],
   "source": [
    "audioLink = audio.attrs['href']"
   ]
  },
  {
   "cell_type": "code",
   "execution_count": 54,
   "metadata": {},
   "outputs": [
    {
     "data": {
      "text/plain": [
       "u'https://ondemand.npr.org/anon.npr-mp3/npr/atc/2019/01/20190118_atc_buzzfeed_reports_trump_directed_cohen_to_lie_to_congress.mp3?orgId=1&topicId=1014&d=255&p=2&story=686696821&siteplayer=true&dl=1'"
      ]
     },
     "execution_count": 54,
     "metadata": {},
     "output_type": "execute_result"
    }
   ],
   "source": [
    "audioLink"
   ]
  },
  {
   "cell_type": "code",
   "execution_count": null,
   "metadata": {},
   "outputs": [],
   "source": []
  }
 ],
 "metadata": {
  "kernelspec": {
   "display_name": "beautiful_soup-qCJrC3F3",
   "language": "python",
   "name": "beautiful_soup-qcjrc3f3"
  },
  "language_info": {
   "codemirror_mode": {
    "name": "ipython",
    "version": 2
   },
   "file_extension": ".py",
   "mimetype": "text/x-python",
   "name": "python",
   "nbconvert_exporter": "python",
   "pygments_lexer": "ipython2",
   "version": "2.7.15"
  }
 },
 "nbformat": 4,
 "nbformat_minor": 2
}
